{
 "cells": [
  {
   "cell_type": "code",
   "execution_count": 1,
   "metadata": {
    "collapsed": false
   },
   "outputs": [
   ],
   "source": [
    "from random import random"
   ]
  },
  {
   "cell_type": "code",
   "execution_count": 32,
   "metadata": {
    "collapsed": false
   },
   "outputs": [
   ],
   "source": [
    "standard_basis_R = lambda n : [vector(RR, [int(i==j) for j in range(n)]) for i in range(n)]"
   ]
  },
  {
   "cell_type": "code",
   "execution_count": 33,
   "metadata": {
    "collapsed": false
   },
   "outputs": [
   ],
   "source": [
    "# Let {e1, e2, .... ,en} be the standard orthonormal basis for R^n\n",
    "# Then this function generates the frame { e1/sqrt(split), e2/sqrt(split), .... ,e3/sqrt(split) }\n",
    "# This frame will have dimension*split no. of elements in it\n",
    "\n",
    "def gen_frame1(space=RR, dimension=3, split=2):\n",
    "    basis = standard_basis_R(dimension)\n",
    "    frame = [x/sqrt(split) for x in basis for i in range(split)]\n",
    "    return frame"
   ]
  },
  {
   "cell_type": "code",
   "execution_count": 34,
   "metadata": {
    "collapsed": false
   },
   "outputs": [
   ],
   "source": [
    "def frame_analysis(frame, space=QQ, min_loss=1, max_loss=1, norm_bound=100, iterations=100, verbose=True):\n",
    "    \n",
    "    # some good constants\n",
    "    space_dimension = len(frame[0])\n",
    "    frame_length = len(frame)\n",
    "    er_max, er_min = 0, space_dimension*norm_bound\n",
    "    \n",
    "    # some good functions\n",
    "    vec_to_frame_coeffs = lambda x, frame : [x.dot_product(i) for i in frame]\n",
    "    frame_coeffs_to_vec = lambda x, frame: sum([x[i]*frame[i] for i in range(len(frame)) if len(frame) == len(x)])\n",
    "    \n",
    "    # Let's start analysis\n",
    "    for i in range(iterations):\n",
    "        \n",
    "        # Picking a random vector within the bound\n",
    "        while True:\n",
    "            v = vector(space, [uniform(-1*norm_bound, norm_bound) for i in range(space_dimension)])\n",
    "            if norm(v) <= norm_bound:\n",
    "                break\n",
    "        \n",
    "        # Get me frame co-efficients of the vector\n",
    "        frame_coeffs = vec_to_frame_coeffs(v, frame)\n",
    "        \n",
    "        # Emulating recieved_vector after signal loss in frame_coefficients\n",
    "        recieved_frame_coeffs = frame_coeffs\n",
    "        count_losing_coordinates = randint(min_loss, min(max_loss, frame_length))\n",
    "        lost_coordinates = []\n",
    "        for i in range(count_losing_coordinates):\n",
    "            while True:\n",
    "                losing_coordinate = randint(0, frame_length-1)\n",
    "                if losing_coordinate not in lost_coordinates:\n",
    "                    lost_coordinates.append(losing_coordinate)\n",
    "                    break\n",
    "            recieved_frame_coeffs[losing_coordinate] = 0\n",
    "            \n",
    "        # recieved vector after transmission loss\n",
    "        u = frame_coeffs_to_vec(recieved_frame_coeffs, frame)\n",
    "        \n",
    "        # transmission error\n",
    "        error = norm(v-u)\n",
    "        if error > er_max:\n",
    "            er_max = error\n",
    "        if error < er_min:\n",
    "            er_min = error\n",
    "        if verbose:\n",
    "            print(\"Transmission error is :\", error)\n",
    "        \n",
    "    print(\"Analysis Completed\")\n",
    "    print(\"Iterations:\", iterations)\n",
    "    print(\"Maximum Error:\", er_max)\n",
    "    print(\"Minimum Error:\", er_min)"
   ]
  },
  {
   "cell_type": "code",
   "execution_count": 37,
   "metadata": {
    "collapsed": false
   },
   "outputs": [
    {
     "name": "stdout",
     "output_type": "stream",
     "text": [
      "Analysis Completed\n",
      "Iterations: 1000\n",
      "Maximum Error: 78.1841725555467\n",
      "Minimum Error: 0.143821292484565\n"
     ]
    }
   ],
   "source": [
    "frame = gen_frame1(space=RR, dimension=3, split=3)\n",
    "frame_analysis(frame, space=RR, min_loss=1, max_loss=3, norm_bound=100, iterations=1000, verbose=False)"
   ]
  },
  {
   "cell_type": "code",
   "execution_count": 0,
   "metadata": {
    "collapsed": false
   },
   "outputs": [
   ],
   "source": [
   ]
  }
 ],
 "metadata": {
  "kernelspec": {
   "display_name": "SageMath 9.6",
   "language": "sagemath",
   "metadata": {
    "cocalc": {
     "description": "Open-source mathematical software system",
     "priority": 10,
     "url": "https://www.sagemath.org/"
    }
   },
   "name": "sage-9.6",
   "resource_dir": "/ext/jupyter/kernels/sage-9.6"
  },
  "language_info": {
   "codemirror_mode": {
    "name": "ipython",
    "version": 3
   },
   "file_extension": ".py",
   "mimetype": "text/x-python",
   "name": "python",
   "nbconvert_exporter": "python",
   "pygments_lexer": "ipython3",
   "version": "3.10.3"
  }
 },
 "nbformat": 4,
 "nbformat_minor": 4
}
