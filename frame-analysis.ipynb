{
 "cells": [
  {
   "cell_type": "code",
   "execution_count": 29,
   "metadata": {
    "collapsed": false,
    "jupyter": {
     "outputs_hidden": false
    }
   },
   "outputs": [],
   "source": [
    "from random import random\n",
    "from sage.plot.histogram import Histogram"
   ]
  },
  {
   "cell_type": "code",
   "execution_count": 6,
   "metadata": {
    "collapsed": false,
    "jupyter": {
     "outputs_hidden": false
    }
   },
   "outputs": [],
   "source": [
    "standard_basis = lambda space, n : [vector(space, [int(i==j) for j in range(n)]) for i in range(n)]\n",
    "normalize = lambda vector: vector/norm(vector)\n",
    "normalize_list = lambda vector_list : [normalize(x) for x in vector_list]\n",
    "\n",
    "## some good functions\n",
    "\n",
    "# gets you the frame coefficients for a vector\n",
    "analysis_operator = lambda vector, frame : [vector.dot_product(i) for i in frame]\n",
    "# gets you the vector from frame coefficients\n",
    "synthesis_operator = lambda coefficients, frame: sum([coefficients[i]*frame[i] for i in range(len(frame)) if len(frame) == len(coefficients)])"
   ]
  },
  {
   "cell_type": "code",
   "execution_count": 12,
   "metadata": {
    "collapsed": false,
    "jupyter": {
     "outputs_hidden": false
    }
   },
   "outputs": [],
   "source": [
    "# Let {e1, e2, .... ,en} be the standard orthonormal basis for R^n\n",
    "# Then this function generates the frame { e1/sqrt(split), e2/sqrt(split), .... ,e3/sqrt(split) }\n",
    "# This frame will have dimension*split no. of elements in it\n",
    "\n",
    "def gen_frame1(space=RR, dimension=3, split=2):\n",
    "    basis = standard_basis(space, dimension)\n",
    "    frame = [x/sqrt(split) for x in basis for i in range(split)]\n",
    "    return frame"
   ]
  },
  {
   "cell_type": "code",
   "execution_count": 13,
   "metadata": {},
   "outputs": [],
   "source": [
    "# Let {e1, e2, .... ,en} be the standard orthonormal basis for R^n\n",
    "# Then this function generates the frame {e1, e2, .... ,en} on the first iteration\n",
    "# and {e1, ... , en, e1+e2, e2+e3, ...,en+e1} on its second iteration\n",
    "# and {e1, ... , en, e1+e2, e2+e3, ...,en+e1, e1+e2+e3, ..., en+e1+e2} on it's 3rd iteration\n",
    "# and so on at m-th iteration it'll have n*(2^m) elements\n",
    "# Note also that all vectors will be normalilzed in the end to unit vectors\n",
    "\n",
    "def gen_frame2(space=RR, dimension=3, iterations=2):\n",
    "    basis = standard_basis(space, dimension)\n",
    "    frame = basis.copy()\n",
    "    \n",
    "    flag = False\n",
    "    if iterations >= dimension:\n",
    "        iterations = dimension-1\n",
    "        flag = True\n",
    "    \n",
    "    # generates e1+e2, ..., en+e1\n",
    "    for i in range(1, iterations): #eliminates first iteration and gives back frame itself\n",
    "        \n",
    "        # generates each n-summand\n",
    "        for j in range(len(basis)): #start postition of the ordered basis vector\n",
    "            temp_vectors = [] # store the first n vectors from the start position\n",
    "            #get the first n vectors from start position\n",
    "            for k in range(j, i+1+j): #the step size should be atleast 2\n",
    "                temp_vectors.append(basis[k%len(basis)]) # put the vectors into temp_vectors\n",
    "            frame.append(sum(temp_vectors)) # add the summand to temp_frame\n",
    "    if flag :\n",
    "        frame.append(sum(basis))\n",
    "    return normalize_list(frame)"
   ]
  },
  {
   "cell_type": "code",
   "execution_count": 14,
   "metadata": {},
   "outputs": [],
   "source": [
    "# Let {e1, e2, .... ,en} be the standard orthonormal basis for R^n\n",
    "# Then this function generates the frame {e1, e2, .... ,en} on the first iteration\n",
    "# and {e1, ... , en, -(e1+e2), -(e2+e3), ...,-(en+e1)} on its second iteration\n",
    "# and {e1, ... , en, -(e1+e2), -(e2+e3), ...,-(en+e1), e1+e2+e3, ..., en+e1+e2} on it's 3rd iteration\n",
    "# and so on at m-th iteration it'll have n*(2^m) elements\n",
    "# Note also that all vectors will be normalilzed in the end to unit vectors\n",
    "\n",
    "def gen_frame2_1(space=RR, dimension=3, iterations=2):\n",
    "    basis = standard_basis(space, dimension)\n",
    "    frame = basis.copy()\n",
    "    \n",
    "    flag = False\n",
    "    if iterations >= dimension:\n",
    "        iterations = dimension-1\n",
    "        flag = True\n",
    "    \n",
    "    # generates e1+e2, ..., en+e1\n",
    "    for i in range(1, iterations): #eliminates first iteration and gives back frame itself\n",
    "        \n",
    "        # generates each n-summand\n",
    "        for j in range(len(basis)): #start postition of the ordered basis vector\n",
    "            temp_vectors = [] # store the first n vectors from the start position\n",
    "            #get the first n vectors from start position\n",
    "            for k in range(j, i+1+j): #the step size should be atleast 2\n",
    "                temp_vectors.append(basis[k%len(basis)]) # put the vectors into temp_vectors\n",
    "            frame.append((-1)**(i)*sum(temp_vectors)) # add the summand to temp_frame\n",
    "    if flag :\n",
    "        frame.append((-1)**(iterations)*sum(basis))\n",
    "    return normalize_list(frame)"
   ]
  },
  {
   "cell_type": "code",
   "execution_count": 19,
   "metadata": {
    "collapsed": false,
    "jupyter": {
     "outputs_hidden": false
    }
   },
   "outputs": [],
   "source": [
    "def frame_analysis(frame, space=QQ, min_loss=1, max_loss=1, norm_bound=100, iterations=100, verbose=True):\n",
    "    \n",
    "    # some good constants\n",
    "    space_dimension = len(frame[0])\n",
    "    frame_length = len(frame)\n",
    "    er_max, er_min = 0, space_dimension*norm_bound\n",
    "    \n",
    "    # ouput variables\n",
    "    inp = []\n",
    "    out = []\n",
    "    err = []\n",
    "    \n",
    "    # Let's start analysis\n",
    "    for i in range(iterations):\n",
    "        \n",
    "        # Picking a random vector within the bound\n",
    "        while True:\n",
    "            v = vector(space, [uniform(-1*norm_bound, norm_bound) for i in range(space_dimension)])\n",
    "            if norm(v) <= norm_bound:\n",
    "                inp.append(v)\n",
    "                break\n",
    "        \n",
    "        # Get me frame co-efficients of the vector\n",
    "        frame_coeffs = analysis_operator(v, frame)\n",
    "        \n",
    "        # Emulating recieved_vector after signal loss in frame_coefficients\n",
    "        recieved_frame_coeffs = frame_coeffs\n",
    "        count_losing_coordinates = randint(min_loss, min(max_loss, frame_length))\n",
    "        lost_coordinates = []\n",
    "        for i in range(count_losing_coordinates):\n",
    "            while True:\n",
    "                losing_coordinate = randint(0, frame_length-1)\n",
    "                if losing_coordinate not in lost_coordinates:\n",
    "                    lost_coordinates.append(losing_coordinate)\n",
    "                    break\n",
    "            recieved_frame_coeffs[losing_coordinate] = 0\n",
    "            \n",
    "        # recieved vector after transmission loss\n",
    "        u = synthesis_operator(recieved_frame_coeffs, frame)\n",
    "        out.append(u)\n",
    "        \n",
    "        # transmission error\n",
    "        error = norm(v-u)\n",
    "        err.append(error)\n",
    "        if error > er_max:\n",
    "            er_max = error\n",
    "        if error < er_min:\n",
    "            er_min = error\n",
    "        if verbose:\n",
    "            print(\"Transmission error is :\", error)\n",
    "        \n",
    "    print(\"Analysis Completed\")\n",
    "    print(\"Iterations:\", iterations)\n",
    "    print(\"Maximum Error:\", er_max)\n",
    "    print(\"Minimum Error:\", er_min)\n",
    "    \n",
    "    return {\"input\":inp, \"output\":out, \"error\":err}"
   ]
  },
  {
   "cell_type": "code",
   "execution_count": 37,
   "metadata": {
    "collapsed": false,
    "jupyter": {
     "outputs_hidden": false
    }
   },
   "outputs": [
    {
     "name": "stdout",
     "output_type": "stream",
     "text": [
      "Size of selected frame: 6\n",
      "Analysis Completed\n",
      "Iterations: 10000\n",
      "Maximum Error: 98.9139011139096\n",
      "Minimum Error: 0.00710132635652627\n",
      "CPU times: user 9.02 s, sys: 7.82 ms, total: 9.03 s\n",
      "Wall time: 9.03 s\n"
     ]
    }
   ],
   "source": [
    "%%time\n",
    "frame = gen_frame1(space=RR, dimension=3, split=2)\n",
    "print(\"Size of selected frame:\", len(frame))\n",
    "result = frame_analysis(frame, space=RR, min_loss=1, max_loss=3, norm_bound=100, iterations=10000, verbose=False)\n",
    "error = list(map(round, result[\"error\"]))\n",
    "error.sort()\n",
    "domain = [i for i in range(min(error), max(error)+1)]\n",
    "count = [error.count(i) for i in domain]\n",
    "p1 = points([(domain[i], count[i]) for i in range(min(error), max(error)+1)], rgbcolor='red', legend_label='1st frame')"
   ]
  },
  {
   "cell_type": "code",
   "execution_count": 38,
   "metadata": {
    "collapsed": false,
    "jupyter": {
     "outputs_hidden": false
    }
   },
   "outputs": [
    {
     "name": "stdout",
     "output_type": "stream",
     "text": [
      "Size of selected frame: 6\n",
      "Analysis Completed\n",
      "Iterations: 10000\n",
      "Maximum Error: 175.112751995289\n",
      "Minimum Error: 0.000000000000000\n",
      "CPU times: user 2.28 s, sys: 3.98 ms, total: 2.28 s\n",
      "Wall time: 2.28 s\n"
     ]
    }
   ],
   "source": [
    "%%time\n",
    "frame = gen_frame2(space=RR, dimension=3, iterations=2)\n",
    "print(\"Size of selected frame:\", len(frame))\n",
    "result = frame_analysis(frame, space=RR, min_loss=1, max_loss=3, norm_bound=100, iterations=10000, verbose=False)\n",
    "error = list(map(round, result[\"error\"]))\n",
    "error.sort()\n",
    "domain = [i for i in range(min(error), max(error)+1)]\n",
    "count = [error.count(i) for i in domain]\n",
    "p2 = points([(domain[i], count[i]) for i in range(min(error), max(error)+1)], color=\"blue\", legend_label=\"2nd frame\")"
   ]
  },
  {
   "cell_type": "code",
   "execution_count": 39,
   "metadata": {},
   "outputs": [
    {
     "name": "stdout",
     "output_type": "stream",
     "text": [
      "Size of selected frame: 6\n",
      "Analysis Completed\n",
      "Iterations: 10000\n",
      "Maximum Error: 174.900847370308\n",
      "Minimum Error: 0.000000000000000\n",
      "CPU times: user 2.38 s, sys: 0 ns, total: 2.38 s\n",
      "Wall time: 2.38 s\n"
     ]
    }
   ],
   "source": [
    "%%time\n",
    "frame = gen_frame2_1(space=RR, dimension=3, iterations=2)\n",
    "print(\"Size of selected frame:\", len(frame))\n",
    "result = frame_analysis(frame, space=RR, min_loss=1, max_loss=3, norm_bound=100, iterations=10000, verbose=False)\n",
    "error = list(map(round, result[\"error\"]))\n",
    "error.sort()\n",
    "domain = [i for i in range(min(error), max(error)+1)]\n",
    "count = [error.count(i) for i in domain]\n",
    "p3 = points([(domain[i], count[i]) for i in range(min(error), max(error)+1)], color=\"green\", legend_label=\"3rd frame\")"
   ]
  },
  {
   "cell_type": "code",
   "execution_count": 42,
   "metadata": {},
   "outputs": [
    {
     "data": {
      "image/png": "[encoded data removed]",
      "text/plain": [
       "Graphics object consisting of 3 graphics primitives"
      ]
     },
     "metadata": {},
     "output_type": "display_data"
    }
   ],
   "source": [
    "errorplot = p1+p2+p3\n",
    "errorplot.show(axes_labels=[\"error\", 'count'])"
   ]
  },
  {
   "cell_type": "code",
   "execution_count": null,
   "metadata": {},
   "outputs": [],
   "source": []
  }
 ],
 "metadata": {
  "kernelspec": {
   "display_name": "SageMath 9.6",
   "language": "sage",
   "name": "sagemath"
  },
  "language_info": {
   "codemirror_mode": {
    "name": "ipython",
    "version": 3
   },
   "file_extension": ".py",
   "mimetype": "text/x-python",
   "name": "python",
   "nbconvert_exporter": "python",
   "pygments_lexer": "ipython3",
   "version": "3.10.6"
  }
 },
 "nbformat": 4,
 "nbformat_minor": 4
}
